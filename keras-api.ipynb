{
 "cells": [
  {
   "cell_type": "markdown",
   "metadata": {},
   "source": [
    "# 1、Keras API学习\n",
    "两种模型：Sequential,Functional"
   ]
  },
  {
   "cell_type": "code",
   "execution_count": 3,
   "metadata": {},
   "outputs": [
    {
     "name": "stdout",
     "output_type": "stream",
     "text": [
      "Windows-10-10.0.17134-SP0\n",
      "1.13.1\n",
      "2.2.4\n"
     ]
    }
   ],
   "source": [
    "import platform\n",
    "import tensorflow as tf\n",
    "import keras\n",
    "print(platform.platform())\n",
    "print(tf.__version__)\n",
    "print(keras.__version__)\n"
   ]
  },
  {
   "cell_type": "code",
   "execution_count": 4,
   "metadata": {},
   "outputs": [],
   "source": [
    "import matplotlib.pyplot as plt\n",
    "import matplotlib.image as mping\n",
    "import numpy as np\n",
    "from IPython.display import Image"
   ]
  },
  {
   "cell_type": "markdown",
   "metadata": {},
   "source": [
    "## 1.1 Sequential模型"
   ]
  },
  {
   "cell_type": "code",
   "execution_count": 5,
   "metadata": {},
   "outputs": [],
   "source": [
    "from keras.models import Sequential\n",
    "from keras.layers import Dense"
   ]
  },
  {
   "cell_type": "code",
   "execution_count": 6,
   "metadata": {},
   "outputs": [
    {
     "name": "stdout",
     "output_type": "stream",
     "text": [
      "WARNING:tensorflow:From C:\\Users\\Zelon\\Anaconda3\\lib\\site-packages\\tensorflow\\python\\framework\\op_def_library.py:263: colocate_with (from tensorflow.python.framework.ops) is deprecated and will be removed in a future version.\n",
      "Instructions for updating:\n",
      "Colocations handled automatically by placer.\n"
     ]
    }
   ],
   "source": [
    "#构建模型\n",
    "model = Sequential([Dense(2,input_shape=(1,)),Dense(1)])\n"
   ]
  },
  {
   "cell_type": "code",
   "execution_count": 7,
   "metadata": {},
   "outputs": [],
   "source": [
    "del model"
   ]
  },
  {
   "cell_type": "code",
   "execution_count": 8,
   "metadata": {},
   "outputs": [],
   "source": [
    "#在模型中，逐层添加\n",
    "model = Sequential()\n",
    "model.add(Dense(2,input_shape=(1,)))\n",
    "model.add(Dense(1))"
   ]
  },
  {
   "cell_type": "code",
   "execution_count": 9,
   "metadata": {},
   "outputs": [],
   "source": [
    "del model"
   ]
  },
  {
   "cell_type": "markdown",
   "metadata": {},
   "source": [
    "## 1.2Functional构建模型 \n",
    "相比Sequential模型，这是一种更灵活的模型构建方式。这种模型的灵活主要表现在：\n",
    "定义多个输入；\n",
    "定义多个输出；\n",
    "定义共享图层；\n",
    "可以定义动态的非周期的模型；\n",
    "### 1.2.1定义输入层"
   ]
  },
  {
   "cell_type": "code",
   "execution_count": 10,
   "metadata": {},
   "outputs": [],
   "source": [
    "from keras.layers import Input\n",
    "from keras.models import Model\n",
    "\n",
    "mnist_input = Input(shape=(784,))"
   ]
  },
  {
   "cell_type": "markdown",
   "metadata": {},
   "source": [
    "### 1.2.2定义不同的连接层"
   ]
  },
  {
   "cell_type": "code",
   "execution_count": 11,
   "metadata": {},
   "outputs": [],
   "source": [
    "hidden = Dense(512)(mnist_input)"
   ]
  },
  {
   "cell_type": "markdown",
   "metadata": {},
   "source": [
    "### 1.2.3 添加到模型"
   ]
  },
  {
   "cell_type": "code",
   "execution_count": 12,
   "metadata": {},
   "outputs": [],
   "source": [
    "model = Model(inputs = mnist_input,outputs = hidden)\n"
   ]
  },
  {
   "cell_type": "markdown",
   "metadata": {},
   "source": [
    "## 1.3标准的网络模型\n",
    "### 1.3.1 多层感知器"
   ]
  },
  {
   "cell_type": "code",
   "execution_count": 13,
   "metadata": {},
   "outputs": [],
   "source": [
    "#from keras models import Model\n",
    "#from keras.layers import Input,Dense\n",
    "from keras.utils import plot_model"
   ]
  },
  {
   "cell_type": "code",
   "execution_count": 14,
   "metadata": {},
   "outputs": [],
   "source": [
    "#定义输入层\n",
    "mnist_input = Input(shape=(784,),name='input')\n",
    "#定义隐藏层\n",
    "hidden1 = Dense(512,activation='relu',name = 'hidden1')(mnist_input)\n",
    "hidden2 = Dense(216,activation='relu',name='hidden2')(hidden1)\n",
    "hidden3 = Dense(128,activation='relu',name='hidden3')(hidden2)\n",
    "#定义输出层\n",
    "out_put = Dense(10,activation='softmax',name='output')(hidden3)\n",
    "#定义函数式模型\n",
    "model = Model(inputs = mnist_input, outputs = out_put)"
   ]
  },
  {
   "cell_type": "code",
   "execution_count": 15,
   "metadata": {},
   "outputs": [
    {
     "name": "stdout",
     "output_type": "stream",
     "text": [
      "_________________________________________________________________\n",
      "Layer (type)                 Output Shape              Param #   \n",
      "=================================================================\n",
      "input (InputLayer)           (None, 784)               0         \n",
      "_________________________________________________________________\n",
      "hidden1 (Dense)              (None, 512)               401920    \n",
      "_________________________________________________________________\n",
      "hidden2 (Dense)              (None, 216)               110808    \n",
      "_________________________________________________________________\n",
      "hidden3 (Dense)              (None, 128)               27776     \n",
      "_________________________________________________________________\n",
      "output (Dense)               (None, 10)                1290      \n",
      "=================================================================\n",
      "Total params: 541,794\n",
      "Trainable params: 541,794\n",
      "Non-trainable params: 0\n",
      "_________________________________________________________________\n"
     ]
    }
   ],
   "source": [
    "#打印显示网络结构\n",
    "model.summary()"
   ]
  },
  {
   "cell_type": "code",
   "execution_count": 16,
   "metadata": {},
   "outputs": [],
   "source": [
    "#生成网络拓扑图并保存\n",
    "plot_model(model,to_file = 'multilayer_perceptron_graph.png')"
   ]
  },
  {
   "cell_type": "code",
   "execution_count": 17,
   "metadata": {},
   "outputs": [
    {
     "data": {
      "image/png": "[encoded data removed]",
      "text/plain": [
       "<IPython.core.display.Image object>"
      ]
     },
     "execution_count": 17,
     "metadata": {},
     "output_type": "execute_result"
    }
   ],
   "source": [
    "#展示模型拓扑图\n",
    "Image('multilayer_perceptron_graph.png')"
   ]
  },
  {
   "cell_type": "markdown",
   "metadata": {},
   "source": [
    "### 1.3.2卷积神经网络CNN\n",
    "本例子，用于图像分类。\n",
    "输入28 * 28\n",
    "两个卷积层，两个池化层，一个全连接层\n",
    "用10个分类的softmax激活的输出层\n"
   ]
  },
  {
   "cell_type": "code",
   "execution_count": 27,
   "metadata": {},
   "outputs": [],
   "source": [
    "from keras.models import Model\n",
    "from keras.layers import Input, Dense\n",
    "from keras.layers.convolutional import Conv2D #二维卷积层\n",
    "from keras.layers.pooling import MaxPool2D   #最大池化层\n",
    "from keras.utils import plot_model"
   ]
  },
  {
   "cell_type": "code",
   "execution_count": 31,
   "metadata": {},
   "outputs": [],
   "source": [
    "#定义输入层\n",
    "mnist_input = Input(shape=(28,28,1),name='input')\n",
    "#定义中间隐藏层\n",
    "conv1 = Conv2D(128,kernel_size=4,activation='relu',name='conv1')(mnist_input)\n",
    "pool1 = MaxPool2D(pool_size=(2,2),name='relu')(conv1)\n",
    "conv2 = Conv2D(64,kernel_size=4,activation='relu',name='conv2')(pool1)\n",
    "pool2 = MaxPool2D(pool_size=(2,2),name='pool2')(conv2)\n",
    "\n",
    "hidden1 = Dense(64,activation='relu',name='hidden1')(pool2)\n",
    "output = Dense(10,activation='softmax',name='output')(hidden1)\n",
    "model = Model(inputs=mnist_input,outputs=output)\n"
   ]
  },
  {
   "cell_type": "code",
   "execution_count": 32,
   "metadata": {},
   "outputs": [
    {
     "name": "stdout",
     "output_type": "stream",
     "text": [
      "_________________________________________________________________\n",
      "Layer (type)                 Output Shape              Param #   \n",
      "=================================================================\n",
      "input (InputLayer)           (None, 28, 28, 1)         0         \n",
      "_________________________________________________________________\n",
      "conv1 (Conv2D)               (None, 25, 25, 128)       2176      \n",
      "_________________________________________________________________\n",
      "relu (MaxPooling2D)          (None, 12, 12, 128)       0         \n",
      "_________________________________________________________________\n",
      "conv2 (Conv2D)               (None, 9, 9, 64)          131136    \n",
      "_________________________________________________________________\n",
      "pool2 (MaxPooling2D)         (None, 4, 4, 64)          0         \n",
      "_________________________________________________________________\n",
      "hidden1 (Dense)              (None, 4, 4, 64)          4160      \n",
      "_________________________________________________________________\n",
      "output (Dense)               (None, 4, 4, 10)          650       \n",
      "=================================================================\n",
      "Total params: 138,122\n",
      "Trainable params: 138,122\n",
      "Non-trainable params: 0\n",
      "_________________________________________________________________\n"
     ]
    }
   ],
   "source": [
    "model.summary()"
   ]
  },
  {
   "cell_type": "code",
   "execution_count": 33,
   "metadata": {},
   "outputs": [
    {
     "data": {
      "image/png": "[encoded data removed]",
      "text/plain": [
       "<IPython.core.display.Image object>"
      ]
     },
     "execution_count": 33,
     "metadata": {},
     "output_type": "execute_result"
    }
   ],
   "source": [
    "#生成模型网络图，保存，并展示\n",
    "plot_model(model,to_file='convolutional_neural_network.png')\n",
    "Image('convolutional_neural_network.png')"
   ]
  },
  {
   "cell_type": "markdown",
   "metadata": {},
   "source": [
    "## 1.3.3递归神经网络RNN\n",
    "本例是一个用于分类的长期短记忆的LSTM的递归神经网络\n",
    "输入：784个时间步骤\n",
    "单个LSTM隐藏层从序列中提取特征，\n",
    "全连接层，解释LSTM层的输出\n",
    "进行10个类别的输出。"
   ]
  },
  {
   "cell_type": "code",
   "execution_count": 34,
   "metadata": {},
   "outputs": [],
   "source": [
    "from keras.models import Model\n",
    "from keras.layers import Input, Dense\n",
    "from keras.layers.recurrent import LSTM\n",
    "from keras.utils import plot_model"
   ]
  },
  {
   "cell_type": "code",
   "execution_count": 43,
   "metadata": {},
   "outputs": [
    {
     "name": "stdout",
     "output_type": "stream",
     "text": [
      "_________________________________________________________________\n",
      "Layer (type)                 Output Shape              Param #   \n",
      "=================================================================\n",
      "input (InputLayer)           (None, 784, 1)            0         \n",
      "_________________________________________________________________\n",
      "lstm1 (LSTM)                 (None, 128)               66560     \n",
      "_________________________________________________________________\n",
      "hidden1 (Dense)              (None, 128)               16512     \n",
      "_________________________________________________________________\n",
      "output (Dense)               (None, 10)                1290      \n",
      "=================================================================\n",
      "Total params: 84,362\n",
      "Trainable params: 84,362\n",
      "Non-trainable params: 0\n",
      "_________________________________________________________________\n"
     ]
    },
    {
     "data": {
      "image/png": "[encoded data removed]",
      "text/plain": [
       "<IPython.core.display.Image object>"
      ]
     },
     "execution_count": 43,
     "metadata": {},
     "output_type": "execute_result"
    }
   ],
   "source": [
    "#定义模型结构\n",
    "mnist_input = Input(shape=(784, 1), name='input')\n",
    "lstm1 = LSTM(128, name='lstm1')(mnist_input)\n",
    "hidden1 = Dense(128, activation='relu', name='hidden1')(lstm1)\n",
    "output = Dense(10, activation='softmax', name='output')(hidden1)\n",
    "model = Model(inputs=mnist_input, outputs=output)\n",
    "#打印模型结构\n",
    "model.summary()\n",
    "#生成模型图，保存并展示\n",
    "plot_model(model,to_file='recurrent_neural_network.png')\n",
    "Image('recurrent_neural_network.png')"
   ]
  },
  {
   "cell_type": "markdown",
   "metadata": {},
   "source": [
    "### 1.3.4 共享层模型\n",
    "这种模型中，多个神经层共享一个输出；一个输入层，可以连接多个隐藏层提取数据特征。\n",
    "#### 1.3.4.1 共享输入层"
   ]
  },
  {
   "cell_type": "code",
   "execution_count": 51,
   "metadata": {},
   "outputs": [],
   "source": [
    "from keras.models import Model\n",
    "from keras.layers import Input, Dense, Flatten\n",
    "from keras.layers.convolutional import Conv2D\n",
    "from keras.layers.pooling import MaxPool2D\n",
    "from keras.layers.merge import concatenate #合并两个层的输出\n",
    "from keras.utils import plot_model"
   ]
  },
  {
   "cell_type": "code",
   "execution_count": 50,
   "metadata": {},
   "outputs": [
    {
     "name": "stdout",
     "output_type": "stream",
     "text": [
      "__________________________________________________________________________________________________\n",
      "Layer (type)                    Output Shape         Param #     Connected to                     \n",
      "==================================================================================================\n",
      "input (InputLayer)              (None, 28, 28, 1)    0                                            \n",
      "__________________________________________________________________________________________________\n",
      "conv1 (Conv2D)                  (None, 25, 25, 32)   544         input[0][0]                      \n",
      "__________________________________________________________________________________________________\n",
      "conv2 (Conv2D)                  (None, 21, 21, 16)   1040        input[0][0]                      \n",
      "__________________________________________________________________________________________________\n",
      "pool1 (MaxPooling2D)            (None, 12, 12, 32)   0           conv1[0][0]                      \n",
      "__________________________________________________________________________________________________\n",
      "pool2 (MaxPooling2D)            (None, 10, 10, 16)   0           conv2[0][0]                      \n",
      "__________________________________________________________________________________________________\n",
      "flatten_4 (Flatten)             (None, 4608)         0           pool1[0][0]                      \n",
      "__________________________________________________________________________________________________\n",
      "flatten_5 (Flatten)             (None, 1600)         0           pool2[0][0]                      \n",
      "__________________________________________________________________________________________________\n",
      "concatenate_2 (Concatenate)     (None, 6208)         0           flatten_4[0][0]                  \n",
      "                                                                 flatten_5[0][0]                  \n",
      "__________________________________________________________________________________________________\n",
      "hidden1 (Dense)                 (None, 64)           397376      concatenate_2[0][0]              \n",
      "__________________________________________________________________________________________________\n",
      "output (Dense)                  (None, 10)           650         hidden1[0][0]                    \n",
      "==================================================================================================\n",
      "Total params: 399,610\n",
      "Trainable params: 399,610\n",
      "Non-trainable params: 0\n",
      "__________________________________________________________________________________________________\n"
     ]
    },
    {
     "data": {
      "image/png": "[encoded data removed]",
      "text/plain": [
       "<IPython.core.display.Image object>"
      ]
     },
     "execution_count": 50,
     "metadata": {},
     "output_type": "execute_result"
    }
   ],
   "source": [
    "mnist_input = Input(shape=(28,28,1),name='input')\n",
    "\n",
    "#第一个特征提取层\n",
    "conv1 = Conv2D(32,kernel_size=4,activation='relu',name='conv1')(mnist_input)\n",
    "pool1 = MaxPool2D(pool_size=(2,2),name='pool1')(conv1)\n",
    "flat1 = Flatten()(pool1)\n",
    "\n",
    "#第二个特征提取层\n",
    "conv2 = Conv2D(16,kernel_size=8,activation='relu',name='conv2')(mnist_input)\n",
    "pool2 = MaxPool2D(pool_size=(2,2),name='pool2')(conv2)\n",
    "flat2 = Flatten()(pool2)\n",
    "\n",
    "#把两个特征合并起来\n",
    "merge = concatenate([flat1,flat2])\n",
    "\n",
    "#全连接层\n",
    "hidden1 = Dense(64,activation='relu',name='hidden1')(merge)\n",
    "\n",
    "#输出层\n",
    "output = Dense(10,activation='softmax',name='output')(hidden1)\n",
    "\n",
    "#用函数模型，组成神经网络\n",
    "model = Model(inputs = mnist_input,outputs = output)\n",
    "\n",
    "#打印模型\n",
    "model.summary()\n",
    "\n",
    "#生成网络结构图，保存，并打印\n",
    "plot_model(model,to_file='shared_input_layer.png')\n",
    "Image('shared_input_layer.png')"
   ]
  },
  {
   "cell_type": "markdown",
   "metadata": {},
   "source": [
    "#### 1.3.4.2 共享输出层\n"
   ]
  },
  {
   "cell_type": "code",
   "execution_count": 53,
   "metadata": {},
   "outputs": [
    {
     "name": "stdout",
     "output_type": "stream",
     "text": [
      "__________________________________________________________________________________________________\n",
      "Layer (type)                    Output Shape         Param #     Connected to                     \n",
      "==================================================================================================\n",
      "input (InputLayer)              (None, 784, 1)       0                                            \n",
      "__________________________________________________________________________________________________\n",
      "lstm1 (LSTM)                    (None, 128)          66560       input[0][0]                      \n",
      "__________________________________________________________________________________________________\n",
      "interp21 (Dense)                (None, 64)           8256        lstm1[0][0]                      \n",
      "__________________________________________________________________________________________________\n",
      "interp22 (Dense)                (None, 32)           2080        interp21[0][0]                   \n",
      "__________________________________________________________________________________________________\n",
      "interp1 (Dense)                 (None, 10)           1290        lstm1[0][0]                      \n",
      "__________________________________________________________________________________________________\n",
      "interp23 (Dense)                (None, 16)           528         interp22[0][0]                   \n",
      "__________________________________________________________________________________________________\n",
      "merge (Concatenate)             (None, 26)           0           interp1[0][0]                    \n",
      "                                                                 interp23[0][0]                   \n",
      "__________________________________________________________________________________________________\n",
      "output (Dense)                  (None, 10)           270         merge[0][0]                      \n",
      "==================================================================================================\n",
      "Total params: 78,984\n",
      "Trainable params: 78,984\n",
      "Non-trainable params: 0\n",
      "__________________________________________________________________________________________________\n"
     ]
    },
    {
     "data": {
      "image/png": "[encoded data removed]",
      "text/plain": [
       "<IPython.core.display.Image object>"
      ]
     },
     "execution_count": 53,
     "metadata": {},
     "output_type": "execute_result"
    }
   ],
   "source": [
    "#输入层\n",
    "mnist_input = Input(shape=(784, 1), name='input')\n",
    "#特征提取层\n",
    "extract1 = LSTM(128, name='lstm1')(mnist_input)\n",
    "#第一个解释层\n",
    "interp1 = Dense(10, activation='relu', name='interp1')(extract1)\n",
    "#第二个解释层\n",
    "interp21 = Dense(64, activation='relu', name='interp21')(extract1)\n",
    "interp22 = Dense(32, activation='relu', name='interp22')(interp21)\n",
    "interp23 = Dense(16, activation='relu', name='interp23')(interp22)\n",
    "#合并两个分析结果\n",
    "merge = concatenate([interp1, interp23], name='merge')\n",
    "#输出层\n",
    "output = Dense(10, activation='softmax', name='output')(merge)\n",
    "#组合模型\n",
    "model = Model(inputs=mnist_input, outputs=output)\n",
    "model.summary()\n",
    "\n",
    "plot_model(model,to_file='shared_feature_extractor.png')\n",
    "Image('shared_feature_extractor.png')\n"
   ]
  },
  {
   "cell_type": "markdown",
   "metadata": {},
   "source": [
    "### 1.3.5多种输入和输出\n",
    "#### 1.3.5.1多输入模型"
   ]
  },
  {
   "cell_type": "code",
   "execution_count": 55,
   "metadata": {},
   "outputs": [
    {
     "name": "stdout",
     "output_type": "stream",
     "text": [
      "__________________________________________________________________________________________________\n",
      "Layer (type)                    Output Shape         Param #     Connected to                     \n",
      "==================================================================================================\n",
      "img_gray_bigsize (InputLayer)   (None, 64, 64, 1)    0                                            \n",
      "__________________________________________________________________________________________________\n",
      "img_rgb_smallsize (InputLayer)  (None, 32, 32, 3)    0                                            \n",
      "__________________________________________________________________________________________________\n",
      "conv11 (Conv2D)                 (None, 61, 61, 32)   544         img_gray_bigsize[0][0]           \n",
      "__________________________________________________________________________________________________\n",
      "conv21 (Conv2D)                 (None, 29, 29, 32)   1568        img_rgb_smallsize[0][0]          \n",
      "__________________________________________________________________________________________________\n",
      "pool11 (MaxPooling2D)           (None, 30, 30, 32)   0           conv11[0][0]                     \n",
      "__________________________________________________________________________________________________\n",
      "pool21 (MaxPooling2D)           (None, 14, 14, 32)   0           conv21[0][0]                     \n",
      "__________________________________________________________________________________________________\n",
      "conv12 (Conv2D)                 (None, 27, 27, 16)   8208        pool11[0][0]                     \n",
      "__________________________________________________________________________________________________\n",
      "conv22 (Conv2D)                 (None, 11, 11, 16)   8208        pool21[0][0]                     \n",
      "__________________________________________________________________________________________________\n",
      "pool12 (MaxPooling2D)           (None, 13, 13, 16)   0           conv12[0][0]                     \n",
      "__________________________________________________________________________________________________\n",
      "pool22 (MaxPooling2D)           (None, 5, 5, 16)     0           conv22[0][0]                     \n",
      "__________________________________________________________________________________________________\n",
      "flatten_8 (Flatten)             (None, 2704)         0           pool12[0][0]                     \n",
      "__________________________________________________________________________________________________\n",
      "flatten_9 (Flatten)             (None, 400)          0           pool22[0][0]                     \n",
      "__________________________________________________________________________________________________\n",
      "concatenate_4 (Concatenate)     (None, 3104)         0           flatten_8[0][0]                  \n",
      "                                                                 flatten_9[0][0]                  \n",
      "__________________________________________________________________________________________________\n",
      "hidden1 (Dense)                 (None, 128)          397440      concatenate_4[0][0]              \n",
      "__________________________________________________________________________________________________\n",
      "hidden2 (Dense)                 (None, 64)           8256        hidden1[0][0]                    \n",
      "__________________________________________________________________________________________________\n",
      "output (Dense)                  (None, 10)           650         hidden2[0][0]                    \n",
      "==================================================================================================\n",
      "Total params: 424,874\n",
      "Trainable params: 424,874\n",
      "Non-trainable params: 0\n",
      "__________________________________________________________________________________________________\n"
     ]
    },
    {
     "data": {
      "image/png": "[encoded data removed]",
      "text/plain": [
       "<IPython.core.display.Image object>"
      ]
     },
     "execution_count": 55,
     "metadata": {},
     "output_type": "execute_result"
    }
   ],
   "source": [
    "# the first input layers\n",
    "img_gray_bigsize = Input(shape=(64, 64, 1), name='img_gray_bigsize')\n",
    "conv11 = Conv2D(32, kernel_size=4, activation='relu', name='conv11')(img_gray_bigsize)\n",
    "pool11 = MaxPool2D(pool_size=(2, 2), name='pool11')(conv11)\n",
    "conv12 = Conv2D(16, kernel_size=4, activation='relu', name='conv12')(pool11)\n",
    "pool12 = MaxPool2D(pool_size=(2, 2), name='pool12')(conv12)\n",
    "flat1 = Flatten()(pool12)\n",
    "# the scecond input layers\n",
    "img_rgb_smallsize = Input(shape=(32, 32, 3), name='img_rgb_smallsize')\n",
    "conv21 = Conv2D(32, kernel_size=4, activation='relu', name='conv21')(img_rgb_smallsize)\n",
    "pool21 = MaxPool2D(pool_size=(2, 2), name='pool21')(conv21)\n",
    "conv22 = Conv2D(16, kernel_size=4, activation='relu', name='conv22')(pool21)\n",
    "pool22 = MaxPool2D(pool_size=(2, 2), name='pool22')(conv22)\n",
    "flat2 = Flatten()(pool22)\n",
    "#connect the two layers\n",
    "merge = concatenate([flat1, flat2])\n",
    "#use the hidden layers to explain output\n",
    "hidden1 = Dense(128, activation='relu', name='hidden1')(merge)\n",
    "hidden2 = Dense(64, activation='relu', name='hidden2')(hidden1)\n",
    "#output layer\n",
    "output = Dense(10, activation='softmax', name='output')(hidden2)\n",
    "#create the model\n",
    "model = Model(inputs=[img_gray_bigsize, img_rgb_smallsize], outputs=output)\n",
    "model.summary()\n",
    "plot_model(model, to_file='multiple_inputs.png')\n",
    "Image('multiple_inputs.png')"
   ]
  },
  {
   "cell_type": "code",
   "execution_count": null,
   "metadata": {},
   "outputs": [],
   "source": []
  }
 ],
 "metadata": {
  "kernelspec": {
   "display_name": "Python 3",
   "language": "python",
   "name": "python3"
  },
  "language_info": {
   "codemirror_mode": {
    "name": "ipython",
    "version": 3
   },
   "file_extension": ".py",
   "mimetype": "text/x-python",
   "name": "python",
   "nbconvert_exporter": "python",
   "pygments_lexer": "ipython3",
   "version": "3.7.3"
  }
 },
 "nbformat": 4,
 "nbformat_minor": 2
}
