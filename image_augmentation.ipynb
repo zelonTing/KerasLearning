{
 "cells": [
  {
   "cell_type": "markdown",
   "metadata": {},
   "source": [
    "# 图像增强\n",
    "在数据准备阶段，应用keras来进行数据增强。\n",
    "## keras数据增强API\n",
    "* 图像随机旋转rotate\n",
    "* 图像随机偏移shift\n",
    "* 图像随机推移shear\n",
    "* Sample-wise图像像素标准化\n",
    "* Feature-wise图像像素标准化\n",
    "* ZCA白化转换\n",
    "* 图像张量维度的重排序\n",
    "* 存储增强图像数据\n",
    "增强图像生成器可以透过以下方法创建：\n",
    "\n",
    "datagen = ImageDataGenerator()\n",
    "\n",
    "之后，就可以用数据来训练这个图像生成器，可以通过调用数据生成器的fit（）函数，来传送训练数据。\n",
    "datagen.fit(train_data)\n",
    "\n",
    "然后，通过调用flow()函数，配置批量返回的数据量大小，并获取图像数据。\n",
    "x_batch,y_batch = datagen.flow(train,train,batch_size = 32)\n",
    "\n",
    "最后，调用fit_generator()函数，并传送数据生成器实例（instance）、每个循环的步数和训练的循环总数(epochs)。\n",
    "\n",
    "model.fit_generator(datagen.flow(X_train, Y_train,                        batch_size=batch_size),\n",
    "               steps_per_epoch=len(X_train)/batch_size,\n",
    "               epochs=nb_epoch)\n",
    "               \n",
    "[详细信息请查看官方文档。](https://keras.io/zh/preprocessing/image/)"
   ]
  },
  {
   "cell_type": "code",
   "execution_count": 39,
   "metadata": {},
   "outputs": [],
   "source": [
    "from keras.datasets import mnist\n",
    "from keras.preprocessing.image import ImageDataGenerator\n",
    "import matplotlib.pyplot as plt\n",
    "from sklearn.datasets import load_digits\n"
   ]
  },
  {
   "cell_type": "code",
   "execution_count": 40,
   "metadata": {},
   "outputs": [],
   "source": [
    "import numpy as np\n",
    "f = np.load(r'C:\\Users\\Zelon\\KerasLearning\\mnist.npz')"
   ]
  },
  {
   "cell_type": "code",
   "execution_count": 41,
   "metadata": {},
   "outputs": [],
   "source": [
    "x_train, y_train = f['x_train'], f['y_train']\n",
    "x_test, y_test = f['x_test'], f['y_test']\n",
    "f.close()"
   ]
  },
  {
   "cell_type": "code",
   "execution_count": 42,
   "metadata": {},
   "outputs": [
    {
     "data": {
      "text/plain": [
       "<matplotlib.image.AxesImage at 0x248e3ba08d0>"
      ]
     },
     "execution_count": 42,
     "metadata": {},
     "output_type": "execute_result"
    },
    {
     "data": {
      "image/png": "[encoded data removed]",
      "text/plain": [
       "<Figure size 432x288 with 1 Axes>"
      ]
     },
     "metadata": {
      "needs_background": "light"
     },
     "output_type": "display_data"
    }
   ],
   "source": [
    "plt.imshow(x_train[0],cmap=plt.get_cmap('gray'))\n",
    "#plt.title(y_train[0])"
   ]
  },
  {
   "cell_type": "code",
   "execution_count": 43,
   "metadata": {},
   "outputs": [
    {
     "data": {
      "text/plain": [
       "<Figure size 576x576 with 0 Axes>"
      ]
     },
     "execution_count": 43,
     "metadata": {},
     "output_type": "execute_result"
    },
    {
     "data": {
      "text/plain": [
       "<Figure size 576x576 with 0 Axes>"
      ]
     },
     "metadata": {},
     "output_type": "display_data"
    }
   ],
   "source": [
    "plt.figure(figsize=(8,8))\n"
   ]
  },
  {
   "cell_type": "code",
   "execution_count": 44,
   "metadata": {},
   "outputs": [
    {
     "data": {
      "image/png": "[encoded data removed]",
      "text/plain": [
       "<Figure size 432x288 with 6 Axes>"
      ]
     },
     "metadata": {
      "needs_background": "light"
     },
     "output_type": "display_data"
    }
   ],
   "source": [
    "for i in range(0, 6):\n",
    "    plt.subplot(330+1+i) # (331) -> 第一個子圖像, (332) -> 第二個子圖像\n",
    "    plt.title(y_train[i])\n",
    "    plt.axis('off')     #不顯示坐標\n",
    "    plt.imshow(x_train[i], cmap=plt.get_cmap('gray'))\n",
    "plt.show()"
   ]
  },
  {
   "cell_type": "markdown",
   "metadata": {},
   "source": [
    "## 随机旋转图像\n",
    "(这对当便是对象需要不同方向照片来训练的时候，有帮助)\n",
    "* 将图像数据集进行维度调整，调整为：\n",
    "[样本数，图像宽，图像高，图像频数] \n",
    "\n",
    "* 像素值类型调整：如果原来为整数型，要调整为浮点型\n",
    "---------------------------------------------------------\n",
    "* 定义图像增强产生器\n",
    "* 使用图像增强产生器来训练实例数据\n",
    "* 设定图像批次值，然后图像增强器会根据这个值返回生成的新数据。"
   ]
  },
  {
   "cell_type": "code",
   "execution_count": 59,
   "metadata": {},
   "outputs": [],
   "source": [
    "X_train = x_train.reshape(x_train.shape[0],28,28,1)\n",
    "X_train = X_train.astype('float32')"
   ]
  },
  {
   "cell_type": "code",
   "execution_count": 46,
   "metadata": {},
   "outputs": [],
   "source": [
    "datagen = ImageDataGenerator(rotation_range=90)"
   ]
  },
  {
   "cell_type": "code",
   "execution_count": 47,
   "metadata": {},
   "outputs": [],
   "source": [
    "datagen.fit(X_train)"
   ]
  },
  {
   "cell_type": "code",
   "execution_count": 48,
   "metadata": {},
   "outputs": [
    {
     "data": {
      "image/png": "[encoded data removed]",
      "text/plain": [
       "<Figure size 576x576 with 6 Axes>"
      ]
     },
     "metadata": {
      "needs_background": "light"
     },
     "output_type": "display_data"
    }
   ],
   "source": [
    "for X_batch, y_batch in datagen.flow(X_train, y_train, batch_size=9):\n",
    "    \n",
    "    plt.figure(figsize=(8,8))\n",
    "    for i in range(0,6):\n",
    "        plt.subplot(331+i)\n",
    "        plt.title(y_batch[i])\n",
    "        plt.axis('off')\n",
    "        plt.imshow(X_batch[i].reshape(28,28),cmap=plt.get_cmap('gray'))\n",
    "    plt.show()\n",
    "    break"
   ]
  },
  {
   "cell_type": "markdown",
   "metadata": {},
   "source": [
    "## 随机偏移\n",
    "过程类似于图像旋转\n",
    "* 需要设置偏移比例"
   ]
  },
  {
   "cell_type": "code",
   "execution_count": 49,
   "metadata": {},
   "outputs": [
    {
     "data": {
      "image/png": "[encoded data removed]",
      "text/plain": [
       "<Figure size 432x288 with 6 Axes>"
      ]
     },
     "metadata": {
      "needs_background": "light"
     },
     "output_type": "display_data"
    }
   ],
   "source": [
    "#-----------------------------------------------------\n",
    "shift = 0.2  #偏移的比例\n",
    "datagen = ImageDataGenerator(width_shift_range=shift,\n",
    "                            height_shift_range=shift)\n",
    "#-----------------------------------------------------\n",
    "datagen.fit(X_train)\n",
    "for X_batch, y_batch in datagen.flow(X_train, y_train, batch_size=9): \n",
    "    for i in range(0,6):        \n",
    "        plt.subplot(331+i)\n",
    "        plt.title(y_batch[i])\n",
    "        plt.axis('off')\n",
    "        plt.imshow(X_batch[i].reshape(28,28),cmap=plt.get_cmap('gray'))\n",
    "    plt.show()\n",
    "    break"
   ]
  },
  {
   "cell_type": "markdown",
   "metadata": {},
   "source": [
    "## 随机推移错切\n",
    "* 需要设置错切强度/错切范围"
   ]
  },
  {
   "cell_type": "code",
   "execution_count": 50,
   "metadata": {},
   "outputs": [],
   "source": [
    "#-----------------------------------------------------\n",
    "shear_range = 1.25\n",
    "datagen = ImageDataGenerator(shear_range=shear_range)\n",
    "#-----------------------------------------------------\n",
    "datagen.fit(X_train)"
   ]
  },
  {
   "cell_type": "code",
   "execution_count": 51,
   "metadata": {},
   "outputs": [
    {
     "data": {
      "image/png": "[encoded data removed]",
      "text/plain": [
       "<Figure size 576x576 with 6 Axes>"
      ]
     },
     "metadata": {
      "needs_background": "light"
     },
     "output_type": "display_data"
    }
   ],
   "source": [
    "for X_train,y_batch in datagen.flow(X_train,y_train,batch_size=9):\n",
    "    plt.figure(figsize=(8,8))\n",
    "    for i in range(0,6):\n",
    "        plt.subplot(331 + i)\n",
    "        plt.title(y_batch[i])\n",
    "        plt.axis('off')\n",
    "        plt.imshow(X_batch[i].reshape(28,28),cmap=plt.get_cmap('gray'))\n",
    "    plt.show()\n",
    "    break\n"
   ]
  },
  {
   "cell_type": "markdown",
   "metadata": {},
   "source": [
    "## 随机镜像翻转\n",
    "* 定义图像数据增强产生器参数：水平倾斜，和垂直倾斜"
   ]
  },
  {
   "cell_type": "code",
   "execution_count": 60,
   "metadata": {},
   "outputs": [],
   "source": [
    "datagen = ImageDataGenerator(horizontal_flip=True, vertical_flip=True)\n",
    "datagen.fit(X_train)\n",
    "\n",
    "\n",
    "X_train = x_train.reshape(x_train.shape[0],28,28,1)\n",
    "X_train = X_train.astype('float32')"
   ]
  },
  {
   "cell_type": "code",
   "execution_count": 61,
   "metadata": {},
   "outputs": [
    {
     "data": {
      "image/png": "[encoded data removed]",
      "text/plain": [
       "<Figure size 576x576 with 6 Axes>"
      ]
     },
     "metadata": {
      "needs_background": "light"
     },
     "output_type": "display_data"
    }
   ],
   "source": [
    "for X_batch, y_batch in datagen.flow(X_train, y_train, batch_size=9):\n",
    "    plt.figure(figsize=(8,8))\n",
    "    for i in range(0,6):\n",
    "        plt.subplot(331 + i)\n",
    "        plt.title(y_batch[i])\n",
    "        plt.axis('off')\n",
    "        plt.imshow(X_batch[i].reshape(28,28),cmap=plt.get_cmap('gray'))\n",
    "    plt.show()\n",
    "    break"
   ]
  },
  {
   "cell_type": "markdown",
   "metadata": {},
   "source": [
    "## 影像特征标准化\n",
    "把整个数据集的像素进行标准化(standardize pixel)\n",
    "* 通过ImageDataGenerator的参数featurewise_center和featurewise_std_normalization设置标准化。"
   ]
  },
  {
   "cell_type": "code",
   "execution_count": 62,
   "metadata": {},
   "outputs": [],
   "source": [
    "datagen = ImageDataGenerator(featurewise_center=True, \n",
    "                             featurewise_std_normalization=True)\n",
    "datagen.fit(X_train)\n",
    "\n",
    "X_train = x_train.reshape(x_train.shape[0],28,28,1)\n",
    "X_train = X_train.astype('float32')"
   ]
  },
  {
   "cell_type": "code",
   "execution_count": 63,
   "metadata": {},
   "outputs": [
    {
     "data": {
      "image/png": "[encoded data removed]",
      "text/plain": [
       "<Figure size 576x576 with 6 Axes>"
      ]
     },
     "metadata": {
      "needs_background": "light"
     },
     "output_type": "display_data"
    }
   ],
   "source": [
    "for X_batch, y_batch in datagen.flow(X_train, y_train, batch_size=9):\n",
    "    plt.figure(figsize=(8,8))\n",
    "    for i in range(0,6):\n",
    "        plt.subplot(331 + i)\n",
    "        plt.title(y_batch[i])\n",
    "        plt.axis('off')\n",
    "        plt.imshow(X_batch[i].reshape(28,28),cmap=plt.get_cmap('gray'))\n",
    "    plt.show()\n",
    "    break"
   ]
  },
  {
   "cell_type": "markdown",
   "metadata": {},
   "source": [
    "## ZCA百花转换\n",
    "目的：出去数据冗余/相关性，突出图像中的结构和特征。\n",
    "* 通过设置ImageDataGenerator的参数zca_whitening来实现"
   ]
  },
  {
   "cell_type": "code",
   "execution_count": 65,
   "metadata": {},
   "outputs": [],
   "source": [
    "\n",
    "\n",
    "datagen = ImageDataGenerator(zca_whitening=True)\n",
    "datagen.fit(X_train)\n"
   ]
  },
  {
   "cell_type": "code",
   "execution_count": 66,
   "metadata": {},
   "outputs": [
    {
     "data": {
      "image/png": "[encoded data removed]",
      "text/plain": [
       "<Figure size 576x576 with 6 Axes>"
      ]
     },
     "metadata": {
      "needs_background": "light"
     },
     "output_type": "display_data"
    }
   ],
   "source": [
    "for X_batch, y_batch in datagen.flow(X_train, y_train, batch_size=9):\n",
    "    plt.figure(figsize=(8,8))\n",
    "    for i in range(0,6):\n",
    "        plt.subplot(331 + i)\n",
    "        plt.title(y_batch[i])\n",
    "        plt.axis('off')\n",
    "        plt.imshow(X_batch[i].reshape(28,28),cmap=plt.get_cmap('gray'))\n",
    "    plt.show()\n",
    "    break"
   ]
  },
  {
   "cell_type": "markdown",
   "metadata": {},
   "source": [
    "## 存储增强后的图像\n",
    "* datagen.flow函数中，设置目录参数save_to_dir，参数save_prefix和图像文件格式参数save_format\n",
    "进行保存"
   ]
  },
  {
   "cell_type": "code",
   "execution_count": null,
   "metadata": {},
   "outputs": [],
   "source": []
  }
 ],
 "metadata": {
  "kernelspec": {
   "display_name": "Python 3",
   "language": "python",
   "name": "python3"
  },
  "language_info": {
   "codemirror_mode": {
    "name": "ipython",
    "version": 3
   },
   "file_extension": ".py",
   "mimetype": "text/x-python",
   "name": "python",
   "nbconvert_exporter": "python",
   "pygments_lexer": "ipython3",
   "version": "3.7.3"
  }
 },
 "nbformat": 4,
 "nbformat_minor": 2
}
